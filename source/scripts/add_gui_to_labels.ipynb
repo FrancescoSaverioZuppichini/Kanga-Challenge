{
 "cells": [
  {
   "cell_type": "code",
   "execution_count": 3,
   "metadata": {},
   "outputs": [
    {
     "name": "stdout",
     "output_type": "stream",
     "text": "Project(base_dir=PosixPath('/home/francesco/Documents/Kanga-Challenge/source'), data_dir=PosixPath('/home/francesco/Documents/Kanga-Challenge/source/dataset'), checkpoint_dir=PosixPath('/home/francesco/Documents/Kanga-Challenge/source/checkpoint'))\n"
    },
    {
     "data": {
      "text/html": "<div>\n<style scoped>\n    .dataframe tbody tr th:only-of-type {\n        vertical-align: middle;\n    }\n\n    .dataframe tbody tr th {\n        vertical-align: top;\n    }\n\n    .dataframe thead th {\n        text-align: right;\n    }\n</style>\n<table border=\"1\" class=\"dataframe\">\n  <thead>\n    <tr style=\"text-align: right;\">\n      <th></th>\n      <th>class</th>\n      <th>x</th>\n      <th>y</th>\n      <th>x2</th>\n      <th>y2</th>\n    </tr>\n  </thead>\n  <tbody>\n    <tr>\n      <th>0</th>\n      <td>1</td>\n      <td>0.387500</td>\n      <td>0.122917</td>\n      <td>0.221875</td>\n      <td>0.090278</td>\n    </tr>\n    <tr>\n      <th>1</th>\n      <td>3</td>\n      <td>0.091016</td>\n      <td>0.802083</td>\n      <td>0.138281</td>\n      <td>0.065278</td>\n    </tr>\n    <tr>\n      <th>2</th>\n      <td>3</td>\n      <td>0.263281</td>\n      <td>0.790972</td>\n      <td>0.139063</td>\n      <td>0.076389</td>\n    </tr>\n    <tr>\n      <th>3</th>\n      <td>2</td>\n      <td>0.148438</td>\n      <td>0.917361</td>\n      <td>0.100000</td>\n      <td>0.118056</td>\n    </tr>\n    <tr>\n      <th>4</th>\n      <td>2</td>\n      <td>0.322266</td>\n      <td>0.911111</td>\n      <td>0.085156</td>\n      <td>0.113889</td>\n    </tr>\n  </tbody>\n</table>\n</div>",
      "text/plain": "   class         x         y        x2        y2\n0      1  0.387500  0.122917  0.221875  0.090278\n1      3  0.091016  0.802083  0.138281  0.065278\n2      3  0.263281  0.790972  0.139063  0.076389\n3      2  0.148438  0.917361  0.100000  0.118056\n4      2  0.322266  0.911111  0.085156  0.113889"
     },
     "execution_count": 3,
     "metadata": {},
     "output_type": "execute_result"
    }
   ],
   "source": [
    "import pandas as pd \n",
    "from source.Project import Project\n",
    "from source.logger import logging\n",
    "from tqdm import tqdm\n",
    "project = Project()\n",
    "\n",
    "root = project.data_dir / 'yolo/frames_copy/'\n",
    "print(project)\n",
    "\n",
    "def read_bb(path):\n",
    "    return pd.read_csv(path, delimiter=' ', names=['class', 'x', 'y', 'x2', 'y2'],  header=None)\n",
    "\n",
    "df_with_gui = read_bb(root / '210.txt')\n",
    "\n",
    "gui_boxes_df = df_with_gui[df_with_gui['class'] != 0]\n",
    "gui_boxes_df.reset_index(drop=True, inplace=True)\n",
    "gui_boxes_df"
   ]
  },
  {
   "cell_type": "code",
   "execution_count": 8,
   "metadata": {},
   "outputs": [],
   "source": [
    "def add_gui(df, df_gui):\n",
    "    df = df[df['class'] == 0]\n",
    "    df = df.reset_index(drop=True)\n",
    "    return pd.concat( [df, df_gui], axis=0) \n"
   ]
  },
  {
   "cell_type": "code",
   "execution_count": 10,
   "metadata": {},
   "outputs": [
    {
     "name": "stderr",
     "output_type": "stream",
     "text": "1260.txt: : 64it [00:00, 237.94it/s]\n"
    }
   ],
   "source": [
    "class AddGuiToBB:\n",
    "    def __init__(self, root, gui_boxes_df):\n",
    "        self.file_paths = root.glob('*.txt')\n",
    "        self.dfs = map(read_bb, self.file_paths)\n",
    "        self.gui_boxes_df = gui_boxes_df\n",
    "\n",
    "    def __call__(self):\n",
    "        bar = tqdm(zip(self.dfs, self.file_paths))\n",
    "        for df, file_path in bar:\n",
    "            x = add_gui(df, self.gui_boxes_df)\n",
    "            x.to_csv(file_path, sep=' ', index=False, header=False)\n",
    "            bar.set_description(f'{file_path.name}')\n",
    "\n",
    "# temp = read_bb(root / '250.txt')\n",
    "# add_gui(temp, gui_boxes_df)\n",
    "adder = AddGuiToBB(root, gui_boxes_df)\n",
    "adder()"
   ]
  },
  {
   "cell_type": "code",
   "execution_count": 78,
   "metadata": {},
   "outputs": [
    {
     "name": "stdout",
     "output_type": "stream",
     "text": [
      "class         x         y        x2        y2\n",
      "0      0  0.335547  0.380556  0.167969  0.341667\n",
      "1      0  0.583594  0.935417  0.126562  0.129167\n"
     ]
    }
   ],
   "source": []
  },
  {
   "cell_type": "code",
   "execution_count": null,
   "metadata": {},
   "outputs": [],
   "source": []
  }
 ],
 "metadata": {
  "file_extension": ".py",
  "kernelspec": {
   "display_name": "Python 3",
   "language": "python",
   "name": "python3"
  },
  "mimetype": "text/x-python",
  "name": "python",
  "npconvert_exporter": "python",
  "pygments_lexer": "ipython3",
  "version": 3
 },
 "nbformat": 4,
 "nbformat_minor": 2
}